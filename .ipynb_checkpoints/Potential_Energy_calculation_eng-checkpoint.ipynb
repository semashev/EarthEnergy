{
 "cells": [
  {
   "cell_type": "markdown",
   "id": "8a65001f",
   "metadata": {},
   "source": [
    "# Calculation of Earth's Gravitational Energy Change\n",
    "\n",
    "We'll calculate the change in gravitational energy of the Earth due to a small change in its polar radius. The gravitational energy of an ellipsoidal Earth is given by the Landau-Lifshitz formula:\n",
    "\n",
    "$$ U = -\\frac{3 G M^2}{5 \\sqrt{a^2 - c^2}} \\arccos\\left(\\frac{c}{a}\\right) $$\n",
    "\n",
    "where:\n",
    "- \\( G \\) is the gravitational constant,\n",
    "- \\( M \\) is the mass of the Earth,\n",
    "- \\( a \\) is the equatorial radius,\n",
    "- \\( c \\) is the polar radius.\n",
    "\n",
    "We'll use `mpmath` for high-precision calculations. Let's define the constants and functions first.\n"
   ]
  },
  {
   "cell_type": "code",
   "execution_count": 171,
   "id": "0508f9b2",
   "metadata": {},
   "outputs": [],
   "source": [
    "import mpmath as mp\n",
    "\n",
    "# Set precision for mpmath\n",
    "mp.dps = 20\n",
    "\n",
    "# Constants\n",
    "G_val = mp.mpf('6.67384e-11')  # Gravitational constant in m^3 kg^-1 s^-2\n",
    "M_val = mp.mpf('5.9722e24')    # Mass of the Earth in kg\n",
    "\n",
    "# Initial radii\n",
    "a_init_val = mp.mpf('6378136.600') # Initial equatorial radius in meters\n",
    "c_init_val = mp.mpf('6356751.858') # Initial polar radius in meters\n",
    "\n",
    "# Function definitions\n",
    "def ecvatorial_radii_calc(delta_c_val, nu=mp.mpf('0.3')):\n",
    "    # Calculate the change in equatorial radius\n",
    "    relative_change_c = mp.fdiv(delta_c_val, c_init_val)\n",
    "    relative_change_a = mp.fmul(mp.fneg(nu), relative_change_c)\n",
    "    delta_a_val = mp.fmul(relative_change_a, a_init_val)\n",
    "    return delta_a_val\n",
    "\n",
    "def gravitational_energy(a, c):\n",
    "    # Calculate gravitational energy using the Landau-Lifshitz formula\n",
    "    acos_arg = mp.fdiv(c, a)\n",
    "    acos_val = mp.acos(acos_arg)\n",
    "    sqrt_val = mp.sqrt(mp.fsub(mp.fmul(a, a), mp.fmul(c, c)))\n",
    "    denominator = mp.fmul(5, sqrt_val)\n",
    "    U = mp.fmul(mp.fdiv(mp.fmul(mp.fmul(-3, G_val), mp.fmul(M_val, M_val)), denominator), acos_val)\n",
    "    return U\n",
    "\n",
    "def delta_energy(delta_c_val, nu=mp.mpf('0.3')):\n",
    "    # Calculate the change in gravitational energy\n",
    "    delta_a_val = ecvatorial_radii_calc(delta_c_val, nu)\n",
    "    U_init = gravitational_energy(a_init_val, c_init_val)\n",
    "    U_new = gravitational_energy(mp.fadd(a_init_val, delta_a_val), mp.fadd(c_init_val, delta_c_val))\n",
    "    delta_U = mp.fsub(U_new, U_init)\n",
    "    return delta_U\n",
    "\n",
    "# Change in polar radius\n",
    "delta_c_val = mp.mpf('0.000146447144')\n",
    "\n",
    "# Calculate the change in gravitational energy\n",
    "dU = delta_energy(delta_c_val)"
   ]
  },
  {
   "cell_type": "markdown",
   "id": "f95cbff8",
   "metadata": {},
   "source": [
    "## Results\n",
    "\n",
    "Now, let's evaluate the change in gravitational energy for the given change in the polar radius:\n"
   ]
  },
  {
   "cell_type": "code",
   "execution_count": 172,
   "id": "5c72be4e",
   "metadata": {},
   "outputs": [
    {
     "data": {
      "text/plain": [
       "6.846000095761034e+20"
      ]
     },
     "execution_count": 172,
     "metadata": {},
     "output_type": "execute_result"
    }
   ],
   "source": [
    "dU_float = float(dU)\n",
    "dU_float"
   ]
  }
 ],
 "metadata": {
  "kernelspec": {
   "display_name": "Python 3 (ipykernel)",
   "language": "python",
   "name": "python3"
  },
  "language_info": {
   "codemirror_mode": {
    "name": "ipython",
    "version": 3
   },
   "file_extension": ".py",
   "mimetype": "text/x-python",
   "name": "python",
   "nbconvert_exporter": "python",
   "pygments_lexer": "ipython3",
   "version": "3.11.1"
  }
 },
 "nbformat": 4,
 "nbformat_minor": 5
}
