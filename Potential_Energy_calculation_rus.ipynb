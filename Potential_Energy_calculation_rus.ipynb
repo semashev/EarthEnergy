{
 "cells": [
  {
   "cell_type": "markdown",
   "id": "2f653e1b",
   "metadata": {},
   "source": [
    "## Расчёт изменения гравитационной энергии Земли\n",
    "\n",
    "Мы рассчитаем изменение гравитационной энергии Земли вследствие небольшого изменения её полярного радиуса. Гравитационная энергия эллипсоидальной Земли определяется формулой Ландау-Лифшица:\n",
    "\n",
    "$$\n",
    "U = -\\frac{3GM^2}{5} \\sqrt{a^2 - c^2} \\arccos\\left(\\frac{c}{a}\\right)\n",
    "$$\n",
    "\n",
    "где:\n",
    "\n",
    "- \\( G \\) — гравитационная постоянная,\n",
    "- \\( M \\) — масса Земли,\n",
    "- \\( a \\) — экваториальный радиус,\n",
    "- \\( c \\) — полярный радиус.\n",
    "\n",
    "Мы будем использовать библиотеку `mpmath` для вычислений с высокой точностью. Для начала определим константы и функции.\n"
   ]
  },
  {
   "cell_type": "code",
   "execution_count": 2,
   "id": "3e9788cd",
   "metadata": {},
   "outputs": [],
   "source": [
    "import mpmath as mp\n",
    "\n",
    "# Установка точности для mpmath\n",
    "mp.dps = 20\n",
    "\n",
    "# Константы\n",
    "G_val = mp.mpf('6.67384e-11')  # Гравитационная постоянная в м^3 кг^-1 с^-2\n",
    "M_val = mp.mpf('5.9722e24')    # Масса Земли в кг\n",
    "\n",
    "# Исходные радиусы\n",
    "a_init_val = mp.mpf('6378136.600') # Исходный экваториальный радиус в метрах\n",
    "c_init_val = mp.mpf('6356751.858') # Исходный полярный радиус в метрах\n",
    "\n",
    "# Определения функций\n",
    "def ecvatorial_radii_calc(delta_c_val, nu=mp.mpf('0.3')):\n",
    "    # Расчет изменения экваториального радиуса\n",
    "    relative_change_c = mp.fdiv(delta_c_val, c_init_val)\n",
    "    relative_change_a = mp.fmul(mp.fneg(nu), relative_change_c)\n",
    "    delta_a_val = mp.fmul(relative_change_a, a_init_val)\n",
    "    return delta_a_val\n",
    "\n",
    "def gravitational_energy(a, c):\n",
    "    # Расчет гравитационной энергии по формуле Ландау-Лифшица\n",
    "    acos_arg = mp.fdiv(c, a)\n",
    "    acos_val = mp.acos(acos_arg)\n",
    "    sqrt_val = mp.sqrt(mp.fsub(mp.fmul(a, a), mp.fmul(c, c)))\n",
    "    denominator = mp.fmul(5, sqrt_val)\n",
    "    U = mp.fmul(mp.fdiv(mp.fmul(mp.fmul(-3, G_val), mp.fmul(M_val, M_val)), denominator), acos_val)\n",
    "    return U\n",
    "\n",
    "def delta_energy(delta_c_val, nu=mp.mpf('0.3')):\n",
    "    # Расчет изменения гравитационной энергии\n",
    "    delta_a_val = ecvatorial_radii_calc(delta_c_val, nu)\n",
    "    U_init = gravitational_energy(a_init_val, c_init_val)\n",
    "    U_new = gravitational_energy(mp.fadd(a_init_val, delta_a_val), mp.fadd(c_init_val, delta_c_val))\n",
    "    delta_U = mp.fsub(U_new, U_init)\n",
    "    return delta_U\n",
    "\n",
    "# Изменение полярного радиуса\n",
    "delta_c_val = mp.mpf('0.000146447144')\n",
    "\n",
    "# Расчет изменения гравитационной энергии\n",
    "dU = delta_energy(delta_c_val)"
   ]
  },
  {
   "cell_type": "markdown",
   "id": "4c68dc3f",
   "metadata": {},
   "source": [
    "## Результаты\n",
    "\n",
    "Теперь давайте оценим изменение гравитационной энергии для заданного изменения полярного радиуса:"
   ]
  },
  {
   "cell_type": "code",
   "execution_count": 3,
   "id": "5c72be4e",
   "metadata": {},
   "outputs": [
    {
     "data": {
      "text/plain": [
       "6.825655595242724e+20"
      ]
     },
     "execution_count": 3,
     "metadata": {},
     "output_type": "execute_result"
    }
   ],
   "source": [
    "dU_float = float(dU)\n",
    "dU_float"
   ]
  }
 ],
 "metadata": {
  "kernelspec": {
   "display_name": "Python 3 (ipykernel)",
   "language": "python",
   "name": "python3"
  },
  "language_info": {
   "codemirror_mode": {
    "name": "ipython",
    "version": 3
   },
   "file_extension": ".py",
   "mimetype": "text/x-python",
   "name": "python",
   "nbconvert_exporter": "python",
   "pygments_lexer": "ipython3",
   "version": "3.11.1"
  }
 },
 "nbformat": 4,
 "nbformat_minor": 5
}
